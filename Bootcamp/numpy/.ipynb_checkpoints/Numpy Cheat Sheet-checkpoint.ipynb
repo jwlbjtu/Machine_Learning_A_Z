{
 "cells": [
  {
   "cell_type": "markdown",
   "metadata": {},
   "source": [
    "**Numpy** is a popular Python libaray in Machine Learning area. Here summarised some useful tips for Numpy."
   ]
  },
  {
   "cell_type": "code",
   "execution_count": 1,
   "metadata": {},
   "outputs": [],
   "source": [
    "import numpy as np"
   ]
  },
  {
   "cell_type": "markdown",
   "metadata": {},
   "source": [
    "### Basics of Numpy Array "
   ]
  },
  {
   "cell_type": "code",
   "execution_count": 2,
   "metadata": {},
   "outputs": [
    {
     "name": "stdout",
     "output_type": "stream",
     "text": [
      "[[1 2 3]\n",
      " [2 3 4]]\n",
      "Number of dim: 2\n",
      "Shape: (2, 3)\n",
      "size: 6\n"
     ]
    }
   ],
   "source": [
    "# creating numpy array\n",
    "array = np.array([[1, 2, 3],\n",
    "                  [2, 3, 4]])\n",
    "\n",
    "print(array)\n",
    "print('Number of dim:', array.ndim)\n",
    "print('Shape:', array.shape)\n",
    "print('size:', array.size)"
   ]
  },
  {
   "cell_type": "code",
   "execution_count": 3,
   "metadata": {},
   "outputs": [
    {
     "name": "stdout",
     "output_type": "stream",
     "text": [
      "int64\n",
      "int32\n",
      "float64\n",
      "float32\n"
     ]
    }
   ],
   "source": [
    "# define element type of an array\n",
    "array = np.array([1, 2, 3], dtype = np.int)\n",
    "print(array.dtype) # int64\n",
    "\n",
    "array = np.array([1, 2, 3], dtype = np.int32)\n",
    "print(array.dtype) # int32\n",
    "\n",
    "array = np.array([1, 2, 3], dtype = np.float)\n",
    "print(array.dtype) # float64\n",
    "\n",
    "array = np.array([1, 2, 3], dtype = np.float32)\n",
    "print(array.dtype) # float32"
   ]
  },
  {
   "cell_type": "markdown",
   "metadata": {},
   "source": [
    "### Creating Matrix"
   ]
  },
  {
   "cell_type": "code",
   "execution_count": 4,
   "metadata": {},
   "outputs": [
    {
     "name": "stdout",
     "output_type": "stream",
     "text": [
      "Zeros matrix\n",
      "[[ 0.  0.  0.]\n",
      " [ 0.  0.  0.]]\n",
      "Ones matrix\n",
      "[[ 1.  1.  1.  1.]\n",
      " [ 1.  1.  1.  1.]\n",
      " [ 1.  1.  1.  1.]]\n",
      "Empty matrix\n",
      "[[  2.68156159e+154  -2.32036126e+077]\n",
      " [  6.94773593e-310   2.78136381e-309]]\n",
      "Random matrix\n",
      "[[ 0.3361672   0.15099262  0.43580346  0.07635681]\n",
      " [ 0.21574756  0.40070359  0.64789344  0.66923312]]\n"
     ]
    }
   ],
   "source": [
    "# creating a matrix with all 0\n",
    "matrix = np.zeros((2,3))\n",
    "print('Zeros matrix')\n",
    "print(matrix)\n",
    "\n",
    "# creating a matrix with all 1\n",
    "matrix = np.ones((3,4))\n",
    "print('Ones matrix')\n",
    "print(matrix)\n",
    "\n",
    "# creating empty matrix\n",
    "matrix = np.empty((2,2))\n",
    "print('Empty matrix')\n",
    "print(matrix)\n",
    "\n",
    "# creating random matrix\n",
    "matrix = np.random.random((2,4))\n",
    "print('Random matrix')\n",
    "print(matrix)"
   ]
  },
  {
   "cell_type": "markdown",
   "metadata": {},
   "source": [
    "### Numpy Arange"
   ]
  },
  {
   "cell_type": "code",
   "execution_count": 5,
   "metadata": {},
   "outputs": [
    {
     "name": "stdout",
     "output_type": "stream",
     "text": [
      "[10 12 14 16 18]\n"
     ]
    }
   ],
   "source": [
    "# creating continuous array\n",
    "a = np.arange(10, 20, 2)\n",
    "print(a)"
   ]
  },
  {
   "cell_type": "code",
   "execution_count": 6,
   "metadata": {},
   "outputs": [
    {
     "name": "stdout",
     "output_type": "stream",
     "text": [
      "[[ 0  1  2  3]\n",
      " [ 4  5  6  7]\n",
      " [ 8  9 10 11]]\n"
     ]
    }
   ],
   "source": [
    "# creating continuous matrix\n",
    "a = np.arange(12).reshape((3,4))\n",
    "print(a)"
   ]
  },
  {
   "cell_type": "code",
   "execution_count": 7,
   "metadata": {},
   "outputs": [
    {
     "name": "stdout",
     "output_type": "stream",
     "text": [
      "[  1.     3.25   5.5    7.75  10.  ]\n",
      "\n",
      "[[  1.    2.8   4.6]\n",
      " [  6.4   8.2  10. ]]\n"
     ]
    }
   ],
   "source": [
    "# creating a linspace\n",
    "a = np.linspace(1, 10, 5)\n",
    "print(a)\n",
    "\n",
    "print()\n",
    "\n",
    "a = np.linspace(1, 10, 6).reshape((2, 3))\n",
    "print(a)"
   ]
  },
  {
   "cell_type": "markdown",
   "metadata": {},
   "source": [
    "### Numpy Operations "
   ]
  },
  {
   "cell_type": "code",
   "execution_count": 8,
   "metadata": {},
   "outputs": [
    {
     "name": "stdout",
     "output_type": "stream",
     "text": [
      "a =  [10 20 30 40]\n",
      "b =  [0 1 2 3]\n",
      "Substraction: [10 19 28 37]\n",
      "Sum: [10 21 32 43]\n",
      "Square: [0 1 4 9]\n",
      "Sin: [-5.44021111  9.12945251 -9.88031624  7.4511316 ]\n",
      "Cos: [-8.39071529  4.08082062  1.5425145  -6.66938062]\n",
      "Tan: [  6.48360827  22.37160944 -64.05331197 -11.17214931]\n"
     ]
    }
   ],
   "source": [
    "# array operations\n",
    "a = np.array([10, 20, 30, 40])\n",
    "b = np.arange(4)\n",
    "print('a = ', a)\n",
    "print('b = ', b)\n",
    "\n",
    "c = a - b\n",
    "print('Substraction:', c)\n",
    "\n",
    "c = a + b\n",
    "print('Sum:', c)\n",
    "\n",
    "c = b**2\n",
    "print('Square:', c)\n",
    "\n",
    "c = 10 * np.sin(a)\n",
    "print('Sin:', c)\n",
    "\n",
    "c = 10 * np.cos(a)\n",
    "print('Cos:', c)\n",
    "\n",
    "c = 10 * np.tan(a)\n",
    "print('Tan:', c)"
   ]
  },
  {
   "cell_type": "code",
   "execution_count": 9,
   "metadata": {},
   "outputs": [
    {
     "name": "stdout",
     "output_type": "stream",
     "text": [
      "[0 1 2 3]\n",
      "[ True  True  True False]\n"
     ]
    }
   ],
   "source": [
    "# array element examination\n",
    "print(b)\n",
    "print(b < 3)"
   ]
  },
  {
   "cell_type": "code",
   "execution_count": 10,
   "metadata": {},
   "outputs": [
    {
     "name": "stdout",
     "output_type": "stream",
     "text": [
      "a =  [[1 1]\n",
      " [0 1]]\n",
      "b =  [[0 1]\n",
      " [2 3]]\n",
      "Element Multiply:\n",
      "[[0 1]\n",
      " [0 3]]\n",
      "Matrix Multiply:\n",
      "[[2 4]\n",
      " [2 3]]\n",
      "Matrix Multiply:\n",
      "[[2 4]\n",
      " [2 3]]\n"
     ]
    }
   ],
   "source": [
    "# matrix operation\n",
    "a = np.array([[1, 1],\n",
    "              [0, 1]])\n",
    "b = np.arange(4).reshape((2,2))\n",
    "\n",
    "print('a = ', a)\n",
    "print('b = ', b)\n",
    "\n",
    "# element multiply\n",
    "c = a * b \n",
    "print('Element Multiply:')\n",
    "print(c)\n",
    "\n",
    "# matrix multiply\n",
    "c = np.dot(a, b)\n",
    "print('Matrix Multiply:')\n",
    "print(c)\n",
    "\n",
    "c = a.dot(b)\n",
    "print('Matrix Multiply:')\n",
    "print(c)"
   ]
  },
  {
   "cell_type": "code",
   "execution_count": 11,
   "metadata": {},
   "outputs": [
    {
     "name": "stdout",
     "output_type": "stream",
     "text": [
      "a =  [[ 0.81709816  0.84494671  0.48110455  0.15578455]\n",
      " [ 0.26020247  0.20752249  0.93577815  0.10599093]]\n",
      "mean: 0.476053500013\n",
      "mean: 0.476053500013\n",
      "average: 0.476053500013\n",
      "median: 0.370653509283\n",
      "sum: 3.8084280001\n",
      "min: 0.10599093105\n",
      "max: 0.935778148161\n",
      "sum of row: [ 2.29893396  1.50949404]\n",
      "min of column: [ 0.26020247  0.20752249  0.48110455  0.10599093]\n",
      "max of row: [ 0.84494671  0.93577815]\n",
      "cumsum: [ 0.81709816  1.66204487  2.14314942  2.29893396  2.55913643  2.76665892\n",
      "  3.70243707  3.808428  ]\n",
      "diff: [[ 0.02784855 -0.36384216 -0.32532   ]\n",
      " [-0.05267998  0.72825566 -0.82978722]]\n",
      "sort: [[ 0.15578455  0.48110455  0.81709816  0.84494671]\n",
      " [ 0.10599093  0.20752249  0.26020247  0.93577815]]\n",
      "trnaspose:\n",
      "[[ 0.81709816  0.26020247]\n",
      " [ 0.84494671  0.20752249]\n",
      " [ 0.48110455  0.93577815]\n",
      " [ 0.15578455  0.10599093]]\n",
      "trnaspose:\n",
      "[[ 0.81709816  0.26020247]\n",
      " [ 0.84494671  0.20752249]\n",
      " [ 0.48110455  0.93577815]\n",
      " [ 0.15578455  0.10599093]]\n",
      "flatten matrix: [ 0.81709816  0.84494671  0.48110455  0.15578455  0.26020247  0.20752249\n",
      "  0.93577815  0.10599093]\n"
     ]
    }
   ],
   "source": [
    "# matrix internal operations\n",
    "a = np.random.random((2,4))\n",
    "print('a = ', a)\n",
    "\n",
    "# mean of the matrix\n",
    "print('mean:', np.mean(a)) \n",
    "print('mean:', a.mean())\n",
    "\n",
    "# average of the matrix\n",
    "print('average:', np.average(a))\n",
    "\n",
    "# median of the matrix\n",
    "print('median:', np.median(a)) \n",
    "\n",
    "# sum of the matrix\n",
    "print('sum:', np.sum(a)) \n",
    "\n",
    "# min element of the matrix\n",
    "print('min:', np.min(a))\n",
    "\n",
    "# max element of the matrix\n",
    "print('max:', np.max(a))\n",
    "\n",
    "# sum of each row in the matrix\n",
    "print('sum of row:', np.sum(a, axis = 1))  \n",
    "\n",
    "# min element of each column in the matrix\n",
    "print('min of column:', np.min(a, axis = 0))\n",
    "\n",
    "# max element of each row in the matrix\n",
    "print('max of row:', np.max(a, axis =1))\n",
    "\n",
    "# cumulative sum\n",
    "print('cumsum:', np.cumsum(a))\n",
    "\n",
    "# diff between elements\n",
    "print('diff:', np.diff(a))\n",
    "\n",
    "# sort the matrix\n",
    "print('sort:', np.sort(a))\n",
    "\n",
    "# matrix transpose\n",
    "print('trnaspose:')\n",
    "print(np.transpose(a))\n",
    "print('trnaspose:')\n",
    "print(a.T)\n",
    "\n",
    "# flatten a matrix\n",
    "print('flatten matrix:', a.flatten())"
   ]
  },
  {
   "cell_type": "code",
   "execution_count": 12,
   "metadata": {},
   "outputs": [
    {
     "name": "stdout",
     "output_type": "stream",
     "text": [
      "A = \n",
      "[[ 2  3  4  5]\n",
      " [ 6  7  8  9]\n",
      " [10 11 12 13]]\n",
      "min index 0\n",
      "max index 11\n",
      "non-zero (array([0, 0, 0, 0, 1, 1, 1, 1, 2, 2, 2, 2]), array([0, 1, 2, 3, 0, 1, 2, 3, 0, 1, 2, 3]))\n",
      "clip\n",
      "[[5 5 5 5]\n",
      " [6 7 8 9]\n",
      " [9 9 9 9]]\n"
     ]
    }
   ],
   "source": [
    "# indexing in matrix\n",
    "A = np.arange(2, 14).reshape((3, 4))\n",
    "print('A = ')\n",
    "print(A)\n",
    "\n",
    "# min index\n",
    "print('min index', np.argmin(A))\n",
    "\n",
    "# max index\n",
    "print('max index', np.argmax(A))\n",
    "\n",
    "# find non-zero index\n",
    "print('non-zero', np.nonzero(A))\n",
    "\n",
    "# clip\n",
    "print('clip')\n",
    "print(np.clip(A, 5, 9))"
   ]
  },
  {
   "cell_type": "markdown",
   "metadata": {},
   "source": [
    "### Numpy Index "
   ]
  },
  {
   "cell_type": "code",
   "execution_count": 13,
   "metadata": {},
   "outputs": [
    {
     "name": "stdout",
     "output_type": "stream",
     "text": [
      "A = \n",
      "[ 3  4  5  6  7  8  9 10 11 12 13 14]\n",
      "Element with index 3: 6\n"
     ]
    }
   ],
   "source": [
    "# array index\n",
    "A = np.arange(3, 15)\n",
    "print('A = ')\n",
    "print(A)\n",
    "\n",
    "# find element with index\n",
    "print('Element with index 3:', A[3])"
   ]
  },
  {
   "cell_type": "code",
   "execution_count": 14,
   "metadata": {},
   "outputs": [
    {
     "name": "stdout",
     "output_type": "stream",
     "text": [
      "A = \n",
      "[[ 3  4  5  6]\n",
      " [ 7  8  9 10]\n",
      " [11 12 13 14]]\n",
      "Row with index 2: [11 12 13 14]\n",
      "Row with index 2: [11 12 13 14]\n",
      "Elment index between 1 and 3(exclude) in row with index 1: [8 9]\n",
      "Column with index 2: [ 5  9 13]\n",
      "Element at row index 2 nad column index 1: 12\n",
      "Element at row index 2 nad column index 1: 12\n"
     ]
    }
   ],
   "source": [
    "# matrix index\n",
    "A = np.arange(3, 15).reshape((3, 4))\n",
    "print('A = ')\n",
    "print(A)\n",
    "\n",
    "# find row\n",
    "print('Row with index 2:', A[2])\n",
    "print('Row with index 2:', A[2, :])\n",
    "print('Elment index between 1 and 3(exclude) in row with index 1:', A[1, 1:3])\n",
    "\n",
    "# find column elements\n",
    "print('Column with index 2:', A[:, 2])\n",
    "\n",
    "# find element\n",
    "print('Element at row index 2 nad column index 1:', A[2][1])\n",
    "print('Element at row index 2 nad column index 1:', A[2, 1])"
   ]
  },
  {
   "cell_type": "markdown",
   "metadata": {},
   "source": [
    "### Iterate Matrix "
   ]
  },
  {
   "cell_type": "code",
   "execution_count": 15,
   "metadata": {},
   "outputs": [
    {
     "name": "stdout",
     "output_type": "stream",
     "text": [
      "row no. 0 [3 4 5 6]\n",
      "row no. 1 [ 7  8  9 10]\n",
      "row no. 2 [11 12 13 14]\n"
     ]
    }
   ],
   "source": [
    "# iteration of matrix\n",
    "i = 0\n",
    "for row in A:\n",
    "    print('row no.', i, row)\n",
    "    i += 1"
   ]
  },
  {
   "cell_type": "code",
   "execution_count": 16,
   "metadata": {},
   "outputs": [
    {
     "name": "stdout",
     "output_type": "stream",
     "text": [
      "colomun no. 0 [ 3  7 11]\n",
      "colomun no. 1 [ 4  8 12]\n",
      "colomun no. 2 [ 5  9 13]\n",
      "colomun no. 3 [ 6 10 14]\n"
     ]
    }
   ],
   "source": [
    "i = 0\n",
    "for column in A.T:\n",
    "    print('colomun no.', i, column)\n",
    "    i += 1"
   ]
  },
  {
   "cell_type": "code",
   "execution_count": 17,
   "metadata": {},
   "outputs": [
    {
     "name": "stdout",
     "output_type": "stream",
     "text": [
      "3\n",
      "4\n",
      "5\n",
      "6\n",
      "7\n",
      "8\n",
      "9\n",
      "10\n",
      "11\n",
      "12\n",
      "13\n",
      "14\n"
     ]
    }
   ],
   "source": [
    "for item in A.flat:\n",
    "    print(item)"
   ]
  },
  {
   "cell_type": "markdown",
   "metadata": {},
   "source": [
    "### Merage  "
   ]
  },
  {
   "cell_type": "code",
   "execution_count": 18,
   "metadata": {},
   "outputs": [
    {
     "name": "stdout",
     "output_type": "stream",
     "text": [
      "A = [1 1 1]\n",
      "B = [2 2 2]\n",
      "vertical stack:\n",
      "[[1 1 1]\n",
      " [2 2 2]]\n",
      "horizontal stack:\n",
      "[1 1 1 2 2 2]\n",
      "add row dimension: [[1 1 1]]\n",
      "add column dimension:\n",
      "[[1]\n",
      " [1]\n",
      " [1]]\n",
      "concatenate:\n",
      "[[1 2 2 1]\n",
      " [1 2 2 1]\n",
      " [1 2 2 1]]\n"
     ]
    }
   ],
   "source": [
    "A = np.array([1, 1, 1])\n",
    "B = np.array([2, 2, 2])\n",
    "print('A =', A)\n",
    "print('B =', B)\n",
    "\n",
    "# vertical stack\n",
    "print('vertical stack:')\n",
    "print(np.vstack((A, B)))\n",
    "\n",
    "# horizontal stack\n",
    "print('horizontal stack:')\n",
    "print(np.hstack((A, B)))\n",
    "\n",
    "# add dimension\n",
    "print('add row dimension:', A[np.newaxis, :])\n",
    "print('add column dimension:')\n",
    "print(A[:, np.newaxis])\n",
    "\n",
    "# concatenate\n",
    "A = A[:, np.newaxis]\n",
    "B = B[:, np.newaxis]\n",
    "C = np.concatenate((A, B, B, A), axis = 1)\n",
    "print('concatenate:')\n",
    "print(C)"
   ]
  },
  {
   "cell_type": "markdown",
   "metadata": {},
   "source": [
    "### Divide "
   ]
  },
  {
   "cell_type": "code",
   "execution_count": 19,
   "metadata": {},
   "outputs": [
    {
     "name": "stdout",
     "output_type": "stream",
     "text": [
      "A =\n",
      "[[ 0  1  2  3]\n",
      " [ 4  5  6  7]\n",
      " [ 8  9 10 11]]\n",
      "horizontal divide\n",
      "[array([[0, 1],\n",
      "       [4, 5],\n",
      "       [8, 9]]), array([[ 2,  3],\n",
      "       [ 6,  7],\n",
      "       [10, 11]])]\n",
      "[array([[0, 1],\n",
      "       [4, 5],\n",
      "       [8, 9]]), array([[ 2,  3],\n",
      "       [ 6,  7],\n",
      "       [10, 11]])]\n",
      "vertical divide\n",
      "[array([[0, 1, 2, 3]]), array([[4, 5, 6, 7]]), array([[ 8,  9, 10, 11]])]\n",
      "[array([[0, 1, 2, 3]]), array([[4, 5, 6, 7]]), array([[ 8,  9, 10, 11]])]\n",
      "non-even divide\n",
      "[array([[0, 1],\n",
      "       [4, 5],\n",
      "       [8, 9]]), array([[ 2],\n",
      "       [ 6],\n",
      "       [10]]), array([[ 3],\n",
      "       [ 7],\n",
      "       [11]])]\n"
     ]
    }
   ],
   "source": [
    "A = np.arange(12).reshape((3, 4))\n",
    "print('A =')\n",
    "print(A)\n",
    "\n",
    "# horizontal divide\n",
    "print('horizontal divide')\n",
    "print(np.split(A, 2, axis = 1))\n",
    "print(np.hsplit(A, 2))\n",
    "\n",
    "# vertical divide\n",
    "print('vertical divide')\n",
    "print(np.split(A, 3, axis = 0))\n",
    "print(np.vsplit(A, 3))\n",
    "\n",
    "# non-even divide\n",
    "print('non-even divide')\n",
    "print(np.array_split(A, 3, axis = 1))"
   ]
  },
  {
   "cell_type": "markdown",
   "metadata": {},
   "source": [
    "### Copy"
   ]
  },
  {
   "cell_type": "code",
   "execution_count": 20,
   "metadata": {},
   "outputs": [
    {
     "name": "stdout",
     "output_type": "stream",
     "text": [
      "a: [0 1 2 3]\n",
      "a: [  0 100 111   3]\n",
      "b: [  0 100 111   3]\n",
      "c: [0 1 2 3]\n"
     ]
    }
   ],
   "source": [
    "a = np.arange(4)\n",
    "print('a:', a)\n",
    "\n",
    "b = a \n",
    "c = np.copy(a)\n",
    "a[1:3] = [100, 111]\n",
    "\n",
    "print('a:', a)\n",
    "print('b:', b)\n",
    "print('c:', c)"
   ]
  }
 ],
 "metadata": {
  "kernelspec": {
   "display_name": "Python 3",
   "language": "python",
   "name": "python3"
  },
  "language_info": {
   "codemirror_mode": {
    "name": "ipython",
    "version": 3
   },
   "file_extension": ".py",
   "mimetype": "text/x-python",
   "name": "python",
   "nbconvert_exporter": "python",
   "pygments_lexer": "ipython3",
   "version": "3.6.4"
  }
 },
 "nbformat": 4,
 "nbformat_minor": 2
}
